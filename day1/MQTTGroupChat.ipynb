{
  "nbformat": 4,
  "nbformat_minor": 0,
  "metadata": {
    "colab": {
      "name": "MQTTGroupChat.ipynb",
      "provenance": []
    },
    "kernelspec": {
      "display_name": "Python 3",
      "name": "python3"
    },
    "language_info": {
      "name": "python"
    }
  },
  "cells": [
    {
      "cell_type": "code",
      "metadata": {
        "colab": {
          "base_uri": "https://localhost:8080/"
        },
        "id": "S473h3Z0Gz58",
        "outputId": "c8961152-f556-4104-e936-df73ec585728"
      },
      "source": [
        "print ('IoT Bootcamp')"
      ],
      "execution_count": null,
      "outputs": [
        {
          "name": "stdout",
          "output_type": "stream",
          "text": [
            "IoT Bootcamp\n"
          ]
        }
      ]
    },
    {
      "cell_type": "code",
      "metadata": {
        "colab": {
          "base_uri": "https://localhost:8080/"
        },
        "id": "zEzV1BA3IWwf",
        "outputId": "afa73f7e-018a-4c2f-c645-45aec6903aa5"
      },
      "source": [
        "pip install paho-mqtt"
      ],
      "execution_count": null,
      "outputs": [
        {
          "name": "stdout",
          "output_type": "stream",
          "text": [
            "Collecting paho-mqtt\n",
            "  Downloading paho-mqtt-1.6.1.tar.gz (99 kB)\n",
            "\u001b[?25l\r\u001b[K     |███▎                            | 10 kB 24.4 MB/s eta 0:00:01\r\u001b[K     |██████▋                         | 20 kB 27.3 MB/s eta 0:00:01\r\u001b[K     |██████████                      | 30 kB 14.5 MB/s eta 0:00:01\r\u001b[K     |█████████████▏                  | 40 kB 11.0 MB/s eta 0:00:01\r\u001b[K     |████████████████▌               | 51 kB 7.3 MB/s eta 0:00:01\r\u001b[K     |███████████████████▉            | 61 kB 7.7 MB/s eta 0:00:01\r\u001b[K     |███████████████████████         | 71 kB 7.3 MB/s eta 0:00:01\r\u001b[K     |██████████████████████████▍     | 81 kB 8.2 MB/s eta 0:00:01\r\u001b[K     |█████████████████████████████▊  | 92 kB 7.9 MB/s eta 0:00:01\r\u001b[K     |████████████████████████████████| 99 kB 4.5 MB/s \n",
            "\u001b[?25hBuilding wheels for collected packages: paho-mqtt\n",
            "  Building wheel for paho-mqtt (setup.py) ... \u001b[?25l\u001b[?25hdone\n",
            "  Created wheel for paho-mqtt: filename=paho_mqtt-1.6.1-py3-none-any.whl size=62133 sha256=44745b1030a7c989ab4c2452b10905ec914f00ca9d8b4f112d89cc7c7ff00ad2\n",
            "  Stored in directory: /root/.cache/pip/wheels/d0/bf/ac/2b3f43f8c6fcd0f4ba5395397458c521eb0b52d33b574a5a40\n",
            "Successfully built paho-mqtt\n",
            "Installing collected packages: paho-mqtt\n",
            "Successfully installed paho-mqtt-1.6.1\n"
          ]
        }
      ]
    },
    {
      "cell_type": "code",
      "metadata": {
        "colab": {
          "base_uri": "https://localhost:8080/"
        },
        "id": "q5KaZ6ZJJEJr",
        "outputId": "85d1baad-6c65-4150-e173-99a0f307cb67"
      },
      "source": [
        "import paho.mqtt.client as mqtt\n",
        "\n",
        "client=mqtt.Client()\n",
        "client.connect('broker.hivemq.com',1883)\n",
        "print ('Broker Connected')\n",
        "client.publish('gec/iot','Hi, Im Maddy')"
      ],
      "execution_count": null,
      "outputs": [
        {
          "name": "stdout",
          "output_type": "stream",
          "text": [
            "Broker Connected\n"
          ]
        },
        {
          "data": {
            "text/plain": [
              "<paho.mqtt.client.MQTTMessageInfo at 0x7f26f16bc110>"
            ]
          },
          "execution_count": 3,
          "metadata": {},
          "output_type": "execute_result"
        }
      ]
    },
    {
      "cell_type": "code",
      "metadata": {
        "colab": {
          "background_save": true,
          "base_uri": "https://localhost:8080/"
        },
        "id": "oqgubvdqNLbu",
        "outputId": "521bc6c5-e857-4f80-9b8b-c5448f8d492c"
      },
      "source": [
        "import paho.mqtt.client as mqtt\n",
        "\n",
        "client=mqtt.Client()\n",
        "client.connect('broker.hivemq.com',1883)\n",
        "print ('Broker Connected')\n",
        "client.subscribe('gec/iot')\n",
        "\n",
        "def notification(client,userdata,msg):\n",
        "  print(msg.payload)\n",
        "client.on_message=notification\n",
        "client.loop_forever()"
      ],
      "execution_count": null,
      "outputs": [
        {
          "name": "stdout",
          "output_type": "stream",
          "text": [
            "Broker Connected\n",
            "b'Hi, Im Ajay'\n",
            "b'hi, iam kiran'\n",
            "b'Hi, iam BHARGAV'\n",
            "b'Hii, im Pavan'\n",
            "b'Hi, Im Pavan'\n",
            "b'hi this is dilip'\n",
            "b'HI ,I AM MADDY'\n",
            "b'hi,iam khagesh'\n",
            "b'Hi,Im Priya'\n",
            "b'Hii, im Pavan'\n",
            "b'hi this is dilip'\n",
            "b'Hi, iam TejGadu'\n",
            "b'Hi,Im Priya'\n",
            "b'hi,i am kranthi'\n",
            "b'Hi,Im Priya'\n",
            "b'Hi, Im Paachi'\n",
            "b'Hi,im prabhas'\n",
            "b'hi i am teja'\n",
            "b'Hi, iam Dilip'\n",
            "b'Hi,im prabhas'\n",
            "b'hi,iam khagesh'\n",
            "b'all the best for all'\n",
            "b'Hii, im Pavan'\n",
            "b'Hi, iam Charan'\n",
            "b'Hi, Im Paachi bhanu'\n",
            "b'Hi,Im Priya'\n",
            "b'HI ,I AM NARSI'\n",
            "b'hi, iam kiranmayi'\n",
            "b'Hi, iam vishnu'\n",
            "b'Hi, Im Paachi bhanu'\n",
            "b'HI ,I AM NARSI'\n",
            "b'Hi, iam lahari'\n",
            "b'Hi, iam deepika'\n",
            "b'Hi,Im Priya'\n",
            "b'Hi, iam upendra'\n",
            "b'HI ,I AM NARSI'\n",
            "b'hi, iam komali'\n",
            "b'hi,i am kranthi'\n",
            "b'Hi,Im Priya'\n",
            "b'Hi, iam kalpana@gec cse toper'\n",
            "b'Hii, im Pavan'\n",
            "b'Hi,Im Priya'\n",
            "b'hi,iam kiran'\n",
            "b'Hi,Im Priya'\n",
            "b'hi,i am REVATHI'\n",
            "b'Hi,I am balapam'\n",
            "b'Hi,Im Priya'\n",
            "b'hi,iam prakash'\n",
            "b'Hi, Im Ajay'\n",
            "b'Hi,Im Deepu'\n",
            "b'HI ,I AM NARSI'\n",
            "b''\n",
            "b'Hi,Im Priya'\n",
            "b'Hi,I am balapam'\n",
            "b'Hii, im Pavan'\n",
            "b'Hii, im Pavan'\n",
            "b'hi,i am REVATHI'\n",
            "b'Hi, iam KALPANA @TOPPER'\n",
            "b'Hii, im Pavan'\n",
            "b'Hi,I am balapam'\n",
            "b'Hi,Im Priya'\n",
            "b'hi,iam prakash'\n",
            "b'Hi,I am balapam'\n",
            "b'Hi, Im Paachi bhanu'\n",
            "b'Hi,I am balapam'\n",
            "b'Hi, iam BHARGAV'\n",
            "b'Hi,IM surendra'\n",
            "b'hi,iam prakash'\n",
            "b'Hi,Im Priya'\n",
            "b''\n",
            "b'Hi,I am balapam'\n",
            "b'Hi,Im Priya'\n",
            "b'Hi, Im bhanu paachi '\n",
            "b'Hi,Im potti'\n",
            "b'Hi, Im bhanu paachi '\n",
            "b''\n",
            "b'Hi,Im potti'\n",
            "b'HI ,I AM AJAY VARMA'\n",
            "b'Hi,Im Priya'\n",
            "b'hi,iam khagesh'\n",
            "b'Hi,IM thiru'\n",
            "b'JAI BALAYA'\n",
            "b'Hi,I am balapam'\n",
            "b'JAI BALAYA'\n",
            "b'Hi, Im bhanu friedrice '\n",
            "b'Hi,Im Vishnu Priya'\n",
            "b'Hi,Im ramborafee'\n",
            "b'Hi, Im bhanu friedrice '\n",
            "b'Hi,Im Vishnu Priya'\n",
            "b'Hi, Im bhanu friedrice '\n",
            "b'Hi,Im Vishnu Priya'\n",
            "b'Hi, Im bhanu friedrice '\n",
            "b'Hi,Im Bunny'\n",
            "b'HI  I AM CHADRA'\n",
            "b'Hi,Im Vishnu Priya'\n",
            "b'Hi, iam BHARGAV'\n",
            "b'Hi,im saaho'\n",
            "b'hi,i am kranthi'\n",
            "b'Hi,Im Vishnu Priya'\n",
            "b'Hi,Im Priya'\n",
            "b'Hii, im Pavan'\n",
            "b''\n",
            "b'Hi, Im bhanu friedrice '\n",
            "b''\n",
            "b'Hi, Im bhanu friedrice '\n",
            "b'Hi,Im Priya'\n",
            "b'Hi,Im Bunny'\n",
            "b'Hi,Im Priya'\n",
            "b'hi,im chandu'\n",
            "b'Hi,Im Priya'\n",
            "b'Hi,Im Priya'\n",
            "b'Hii, im Pavan'\n",
            "b'Hi,Im Priya'\n",
            "b'Hi,im masthan'\n",
            "b'Hi, iam REVATHI THE CR of cse AND THE TOPPER OF jntuk'\n",
            "b'Hi,Im Priya'\n",
            "b'Hi,Im Priya'\n",
            "b'Hi,im saaho'\n",
            "b'Hii, im Pavan'\n",
            "b'revathi JNTUK topper'\n",
            "b'Hi,Im Priya'\n",
            "b'hi myself khagesh'\n",
            "b'Hi,Im Priya'\n",
            "b'Hi,Im Priya'\n",
            "b'Hi, iam REVATHI THE CR of cse AND THE TOPPER OF jntuk'\n",
            "b'Hi,Im Priya'\n",
            "b'Hi,Im Priya'\n",
            "b'Hi,Im Priya'\n",
            "b'Hi,im masthan khan'\n",
            "b'Hi,Im Priya'\n",
            "b'Hi,Im Priya'\n",
            "b'Hi,Im Priya'\n",
            "b'Hi,Im barghav topper of jntuk'\n",
            "b'Hi,im masthan rebal'\n",
            "b'Hi,Im Priya'\n",
            "b'Hi,im ECE topper prakash'\n",
            "b'Hi, im smith'\n",
            "b'Hi,Im barghav topper of indian university'\n",
            "b'Hi, im smith'\n",
            "b'Hi,Im barghav topper of national university'\n",
            "b'Hi, im kingu'\n",
            "b'Hi, im kingu koduku'\n",
            "b'Hi,im nag bhai don of GEC'\n",
            "b'Hi,Im rajyalakshmi'\n",
            "b'Hi,Im bunny'\n",
            "b'hi,i am kranthi'\n",
            "b'Hi,Im lahari'\n",
            "b'Hi,iam raj cse '\n",
            "b'Hi,iam masthan cse '\n",
            "b'hi, Im desu'\n",
            "b'Hi,Im 246'\n",
            "b' 246'\n",
            "b'Hii, im Pavan'\n",
            "b'Hi,im mastan cse lover boy for girls '\n",
            "b'Hi,adhi antey adhi pettakandi ra somiee '\n",
            "b'Hii, im Pavan'\n",
            "b'Hi,im mastan cse lover boy for girls '\n",
            "b'hi,i am kranthi single'\n"
          ]
        }
      ]
    }
  ]
}